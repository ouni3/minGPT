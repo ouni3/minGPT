{
 "cells": [
  {
   "cell_type": "markdown",
   "metadata": {},
   "source": [
    "A cute little demo showing the simplest usage of minGPT. Configured to run fine on Macbook Air in like a minute."
   ]
  },
  {
   "cell_type": "code",
   "execution_count": 1,
   "metadata": {},
   "outputs": [],
   "source": [
    "import torch\n",
    "from torch.utils.data import Dataset\n",
    "from torch.utils.data.dataloader import DataLoader\n",
    "from mingpt.utils import set_seed\n",
    "set_seed(3407)"
   ]
  },
  {
   "cell_type": "code",
   "execution_count": 2,
   "metadata": {},
   "outputs": [],
   "source": [
    "import pickle\n",
    "import torch\n",
    "from torch.utils.data import Dataset\n",
    "\n",
    "class SortDataset(Dataset):\n",
    "    \"\"\" \n",
    "    排序问题的 Dataset。例如，对于长度为 6 的问题：\n",
    "    输入：0 0 2 1 0 1 -> 输出：0 0 0 1 1 2\n",
    "    这将连接后输入到 Transformer 中：\n",
    "    input:  0 0 2 1 0 1 0 0 0 1 1\n",
    "    output: I I I I I 0 0 0 1 1 2\n",
    "    其中 I 是“忽略”，因为 Transformer 正在读取输入序列\n",
    "    \"\"\"\n",
    "\n",
    "    def __init__(self, split, length=6, num_digits=3):\n",
    "        \"\"\"\n",
    "        初始化 SortDataset。\n",
    "\n",
    "        参数：\n",
    "            split (str)：数据集的划分，'train' 或 'test'。\n",
    "            length (int)：每个排序问题的长度。\n",
    "            num_digits (int)：排序问题中使用的数字范围。\n",
    "        \"\"\"\n",
    "        assert split in {'train', 'test'}\n",
    "        self.split = split\n",
    "        self.length = length\n",
    "        self.num_digits = num_digits\n",
    "    \n",
    "    def __len__(self):\n",
    "        \"\"\"\n",
    "        返回数据集的大小。\n",
    "        \"\"\"\n",
    "        return 10000 # ...\n",
    "    \n",
    "    def get_vocab_size(self):\n",
    "        \"\"\"\n",
    "        返回词汇表的大小，这里指数字的范围。\n",
    "        \"\"\"\n",
    "        return self.num_digits\n",
    "    \n",
    "    def get_block_size(self):\n",
    "        \"\"\"\n",
    "        返回输入 Transformer 的序列长度，包含连接的输入和输出，但 -1 因为\n",
    "        Transformer 从最后一个输入元素开始进行预测。\n",
    "        \"\"\"\n",
    "        return self.length * 2 - 1\n",
    "\n",
    "    def __getitem__(self, idx):\n",
    "        \"\"\"\n",
    "        获取指定索引的数据项。\n",
    "\n",
    "        参数：\n",
    "            idx (int)：数据项的索引。\n",
    "\n",
    "        返回：\n",
    "            tuple：包含输入序列和目标序列的元组。\n",
    "        \"\"\"\n",
    "        \n",
    "        # 使用拒绝采样从所需的划分中生成输入示例\n",
    "        while True:\n",
    "            # 生成一些随机整数\n",
    "            inp = torch.randint(self.num_digits, size=(self.length,), dtype=torch.long)\n",
    "            # 一半的时间尝试增加具有大量重复数字的示例数量，因为这似乎是模型在训练后期难以处理的问题，而且它们出现的频率很高\n",
    "            if torch.rand(1).item() < 0.5:\n",
    "                if inp.unique().nelement() > self.length // 2:\n",
    "                    # 太多唯一的数字，重新采样\n",
    "                    continue\n",
    "            # 根据其哈希值确定这个生成的示例是训练集还是测试集\n",
    "            h = hash(pickle.dumps(inp.tolist()))\n",
    "            inp_split = 'test' if h % 4 == 0 else 'train' # 将 25% 的示例指定为测试集\n",
    "            if inp_split == self.split:\n",
    "                break # ok\n",
    "        \n",
    "        # 解决任务：即排序\n",
    "        sol = torch.sort(inp)[0]\n",
    "\n",
    "        # 连接问题描述和解决方案\n",
    "        cat = torch.cat((inp, sol), dim=0)\n",
    "\n",
    "        # Transformer 的输入将是偏移序列\n",
    "        x = cat[:-1].clone() # 输入序列\n",
    "        y = cat[1:].clone() # 目标序列\n",
    "        # 我们只想预测输出位置，屏蔽掉输入位置的损失\n",
    "        y[:self.length-1] = -1\n",
    "        return x, y"
   ]
  },
  {
   "cell_type": "code",
   "execution_count": 3,
   "metadata": {},
   "outputs": [
    {
     "name": "stdout",
     "output_type": "stream",
     "text": [
      "1 -1\n",
      "0 -1\n",
      "1 -1\n",
      "0 -1\n",
      "0 -1\n",
      "0 0\n",
      "0 0\n",
      "0 0\n",
      "0 0\n",
      "0 1\n",
      "1 1\n"
     ]
    }
   ],
   "source": [
    "# 导入 SortDataset 类，该类用于加载排序任务的数据集\n",
    "from dataset import SortDataset \n",
    "\n",
    "# 创建训练数据集，传入 'train' 参数表示加载训练数据\n",
    "train_dataset = SortDataset('train')\n",
    "# 创建测试数据集，传入 'test' 参数表示加载测试数据\n",
    "test_dataset = SortDataset('test')\n",
    "\n",
    "# 从训练数据集中获取索引为 0 的样本，该样本包含待排序序列 x 和排序后的结果 y\n",
    "x, y = train_dataset[0]\n",
    "\n",
    "# 遍历待排序序列 x 和排序后的结果 y 中的每个元素\n",
    "# a 表示待排序序列中的元素，b 表示排序后的结果中的元素\n",
    "for a, b in zip(x,y):\n",
    "    # 将 a 和 b 转换为整数类型并打印出来\n",
    "    print(int(a),int(b)) "
   ]
  },
  {
   "cell_type": "code",
   "execution_count": 4,
   "metadata": {},
   "outputs": [
    {
     "name": "stdout",
     "output_type": "stream",
     "text": [
      "number of parameters: 0.09M\n"
     ]
    }
   ],
   "source": [
    "# 导入 GPT 类，该类用于创建 GPT 模型\n",
    "from mingpt.model import GPT\n",
    "\n",
    "# 获取 GPT 模型的默认配置\n",
    "model_config = GPT.get_default_config()\n",
    "\n",
    "# 设置模型类型为 'gpt-nano'，这可能是一个小型 GPT 模型\n",
    "model_config.model_type = 'gpt-nano'\n",
    "\n",
    "# 设置模型的词表大小，使用训练数据集的词表大小\n",
    "model_config.vocab_size = train_dataset.get_vocab_size()\n",
    "\n",
    "# 设置模型的块大小，使用训练数据集的块大小\n",
    "model_config.block_size = train_dataset.get_block_size()\n",
    "\n",
    "# 使用配置好的参数创建 GPT 模型实例\n",
    "model = GPT(model_config)"
   ]
  },
  {
   "cell_type": "code",
   "execution_count": 5,
   "metadata": {},
   "outputs": [
    {
     "name": "stdout",
     "output_type": "stream",
     "text": [
      "running on device cuda\n"
     ]
    }
   ],
   "source": [
    "# 导入 Trainer 类，该类用于训练 GPT 模型\n",
    "from mingpt.trainer import Trainer\n",
    "\n",
    "# 获取 Trainer 的默认配置\n",
    "train_config = Trainer.get_default_config()\n",
    "\n",
    "# 设置学习率为 5e-4，因为模型较小，可以使用更大的学习率\n",
    "train_config.learning_rate = 5e-4 \n",
    "\n",
    "# 设置最大迭代次数为 2000\n",
    "train_config.max_iters = 2000\n",
    "\n",
    "# 设置工作进程数量为 0，表示使用主进程进行训练\n",
    "train_config.num_workers = 0\n",
    "\n",
    "# 使用配置好的参数、模型和训练数据集创建 Trainer 对象\n",
    "trainer = Trainer(train_config, model, train_dataset)"
   ]
  },
  {
   "cell_type": "code",
   "execution_count": 6,
   "metadata": {},
   "outputs": [
    {
     "name": "stdout",
     "output_type": "stream",
     "text": [
      "iter_dt 0.00ms; iter 0: train loss 1.06407\n",
      "iter_dt 18.17ms; iter 100: train loss 0.14712\n",
      "iter_dt 18.70ms; iter 200: train loss 0.05315\n",
      "iter_dt 19.65ms; iter 300: train loss 0.04404\n",
      "iter_dt 31.64ms; iter 400: train loss 0.04724\n",
      "iter_dt 18.43ms; iter 500: train loss 0.02521\n",
      "iter_dt 19.83ms; iter 600: train loss 0.03352\n",
      "iter_dt 19.58ms; iter 700: train loss 0.00539\n",
      "iter_dt 18.72ms; iter 800: train loss 0.02057\n",
      "iter_dt 18.26ms; iter 900: train loss 0.00360\n",
      "iter_dt 18.50ms; iter 1000: train loss 0.00788\n",
      "iter_dt 20.64ms; iter 1100: train loss 0.01162\n",
      "iter_dt 18.63ms; iter 1200: train loss 0.00963\n",
      "iter_dt 18.32ms; iter 1300: train loss 0.02066\n",
      "iter_dt 18.40ms; iter 1400: train loss 0.01739\n",
      "iter_dt 18.37ms; iter 1500: train loss 0.00376\n",
      "iter_dt 18.67ms; iter 1600: train loss 0.00133\n",
      "iter_dt 18.38ms; iter 1700: train loss 0.00179\n",
      "iter_dt 18.66ms; iter 1800: train loss 0.00079\n",
      "iter_dt 18.48ms; iter 1900: train loss 0.00042\n"
     ]
    }
   ],
   "source": [
    "def batch_end_callback(trainer):\n",
    "    if trainer.iter_num % 100 == 0:\n",
    "        print(f\"iter_dt {trainer.iter_dt * 1000:.2f}ms; iter {trainer.iter_num}: train loss {trainer.loss.item():.5f}\")\n",
    "trainer.set_callback('on_batch_end', batch_end_callback)\n",
    "\n",
    "trainer.run()"
   ]
  },
  {
   "cell_type": "code",
   "execution_count": 7,
   "metadata": {},
   "outputs": [],
   "source": [
    "# now let's perform some evaluation\n",
    "model.eval()"
   ]
  },
  {
   "cell_type": "code",
   "execution_count": 8,
   "metadata": {},
   "outputs": [
    {
     "name": "stdout",
     "output_type": "stream",
     "text": [
      "train final score: 5000/5000 = 100.00% correct\n",
      "test final score: 5000/5000 = 100.00% correct\n"
     ]
    }
   ],
   "source": [
    "def eval_split(trainer, split, max_batches):\n",
    "    \"\"\"\n",
    "    评估模型在给定数据集上的性能。\n",
    "\n",
    "    Args:\n",
    "        trainer: 训练器对象，包含模型和设备信息。\n",
    "        split: 数据集分割，'train' 或 'test'。\n",
    "        max_batches: 最大批次数，用于限制评估的数据量。\n",
    "\n",
    "    Returns:\n",
    "        正确预测的数量。\n",
    "    \"\"\"\n",
    "    dataset = {'train':train_dataset, 'test':test_dataset}[split] # 根据 split 选择数据集\n",
    "    n = train_dataset.length # 获取输入序列长度\n",
    "    results = [] # 存储每个样本的预测结果\n",
    "    mistakes_printed_already = 0 # 记录已打印的错误数量\n",
    "    loader = DataLoader(dataset, batch_size=100, num_workers=0, drop_last=False) # 创建数据加载器\n",
    "    for b, (x, y) in enumerate(loader): # 遍历数据批次\n",
    "        x = x.to(trainer.device) # 将输入数据移动到设备\n",
    "        y = y.to(trainer.device) # 将标签数据移动到设备\n",
    "        # 分离输入模式\n",
    "        inp = x[:, :n] \n",
    "        sol = y[:, -n:]\n",
    "        # 让模型生成剩余的序列\n",
    "        cat = model.generate(inp, n, do_sample=False) # 使用贪婪算法，不进行采样\n",
    "        sol_candidate = cat[:, n:] # 分离填充的序列\n",
    "        # 比较预测序列和真实序列\n",
    "        correct = (sol == sol_candidate).all(1).cpu() # 判断预测是否完全正确\n",
    "        for i in range(x.size(0)):\n",
    "            results.append(int(correct[i])) # 记录预测结果\n",
    "            if not correct[i] and mistakes_printed_already < 3: # 只打印最多3个错误\n",
    "                mistakes_printed_already += 1\n",
    "                print(\"GPT claims that %s sorted is %s but gt is %s\" % (inp[i].tolist(), sol_candidate[i].tolist(), sol[i].tolist()))\n",
    "        if max_batches is not None and b+1 >= max_batches: # 限制评估的批次数\n",
    "            break\n",
    "    rt = torch.tensor(results, dtype=torch.float)\n",
    "    print(\"%s final score: %d/%d = %.2f%% correct\" % (split, rt.sum(), len(results), 100*rt.mean())) # 打印评估结果\n",
    "    return rt.sum()\n",
    "\n",
    "# 从训练集和测试集中运行大量示例，并验证输出的正确性\n",
    "with torch.no_grad():\n",
    "    train_score = eval_split(trainer, 'train', max_batches=50)\n",
    "    test_score  = eval_split(trainer, 'test',  max_batches=50)"
   ]
  },
  {
   "cell_type": "code",
   "execution_count": 9,
   "metadata": {},
   "outputs": [
    {
     "name": "stdout",
     "output_type": "stream",
     "text": [
      "input sequence  : [[0, 0, 2, 1, 0, 1]]\n",
      "predicted sorted: [[0, 0, 0, 1, 1, 2]]\n",
      "gt sort         : [0, 0, 0, 1, 1, 2]\n",
      "matches         : True\n"
     ]
    }
   ],
   "source": [
    "# 运行一个随机给定的序列并通过模型进行预测\n",
    "n = train_dataset.length  # 获取输入序列长度\n",
    "inp = torch.tensor([[0, 0, 2, 1, 0, 1]], dtype=torch.long).to(trainer.device) # 创建一个随机输入序列\n",
    "assert inp[0].nelement() == n # 确保输入序列长度正确\n",
    "with torch.no_grad(): # 禁用梯度计算\n",
    "    cat = model.generate(inp, n, do_sample=False) # 使用模型生成预测序列\n",
    "sol = torch.sort(inp[0])[0] # 对输入序列进行排序，获取真实排序结果\n",
    "sol_candidate = cat[:, n:] # 获取预测的排序结果\n",
    "print('input sequence  :', inp.tolist()) # 打印输入序列\n",
    "print('predicted sorted:', sol_candidate.tolist()) # 打印预测的排序结果\n",
    "print('gt sort         :', sol.tolist()) # 打印真实的排序结果\n",
    "print('matches         :', bool((sol == sol_candidate).all())) # 判断预测结果是否与真实结果一致"
   ]
  }
 ],
 "metadata": {
  "kernelspec": {
   "display_name": "Python 3.10.4 64-bit",
   "language": "python",
   "name": "python3"
  },
  "language_info": {
   "codemirror_mode": {
    "name": "ipython",
    "version": 3
   },
   "file_extension": ".py",
   "mimetype": "text/x-python",
   "name": "python",
   "nbconvert_exporter": "python",
   "pygments_lexer": "ipython3",
   "version": "3.10.4"
  },
  "orig_nbformat": 4,
  "vscode": {
   "interpreter": {
    "hash": "3ad933181bd8a04b432d3370b9dc3b0662ad032c4dfaa4e4f1596c548f763858"
   }
  }
 },
 "nbformat": 4,
 "nbformat_minor": 2
}
